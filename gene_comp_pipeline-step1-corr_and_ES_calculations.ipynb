{
 "cells": [
  {
   "cell_type": "code",
   "execution_count": 1,
   "id": "14cb1265",
   "metadata": {},
   "outputs": [],
   "source": [
    "import scipy.stats as ss\n",
    "import pandas as pd\n",
    "import numpy as np\n",
    "import os\n",
    "import h5py\n",
    "\n",
    "# Convert GCTX to dataframe\n",
    "def gctx_to_df(file):\n",
    "    gfile = h5py.File(file, \"r\")\n",
    "    df = pd.DataFrame(gfile['0/DATA/0/matrix'][:])\n",
    "\n",
    "    # Get the row and column labels\n",
    "    column_labels = [x.decode('utf-8') for x in list(gfile[\"0/META/ROW/id\"])]\n",
    "    row_labels = [x.decode('utf-8') for x in list(gfile[\"0/META/COL/id\"])]\n",
    "    gfile.close()\n",
    "    \n",
    "    df.index = row_labels\n",
    "    df.columns = column_labels\n",
    "    return df\n",
    "\n",
    "# Input rank of zscore profile, and positions of up and down regulated genes to calculate ES score\n",
    "def calc_ES(zscorerank,qup,qdown):\n",
    "    n = len(zscorerank)\n",
    "    nu = len(qup)\n",
    "    nd = len(qdown)\n",
    "\n",
    "    uptemp = np.array(sorted(zscorerank[qup]))\n",
    "    downtemp = np.array(sorted(zscorerank[qdown]))\n",
    "    upmax = max(np.array(range(1, nu+1))/nu - uptemp/n)\n",
    "    upmin = min(np.array(range(0, nu))/nu - (uptemp - 1)/n)\n",
    "    downmax = max(np.array(range(1, nd+1))/nd - downtemp/n)\n",
    "    downmin = min(np.array(range(0, nd))/nd - (downtemp - 1)/n)\n",
    "\n",
    "    upscore = (upmax if abs(upmax) > abs(upmin) else upmin)\n",
    "    downscore = (downmax if abs(downmax) > abs(downmin) else downmin)\n",
    "\n",
    "    ES= ((downscore - upscore)/2 if(upscore*downscore < 0) else 0)\n",
    "    \n",
    "    return ES"
   ]
  },
  {
   "cell_type": "code",
   "execution_count": 2,
   "id": "79fb7d60",
   "metadata": {},
   "outputs": [
    {
     "name": "stdout",
     "output_type": "stream",
     "text": [
      "Genes in Comparison set 23614\n",
      "Up and down regulated selected genes: 312\n",
      "Up and down regulated selected x L1000 genes: 283\n",
      "\n",
      "Intersection of selected and L1000 gene names: {'NDRG2', 'SFXN5', 'ANKRD10', 'VHL', 'UBXN2A', 'ENTPD2', 'PURB', 'PAQR8', 'TMTC2', 'COL9A2', 'CEP95', 'FERMT2', 'TMEM100', 'BET1', 'ALDOC', 'APBB3', 'ALDH5A1', 'SAMD5', 'CBS', 'CMBL', 'WSB1', 'SRSF5', 'PKHD1L1', 'CALB2', 'AURKB', 'LIX1', 'TBKBP1', 'HSD11B1', 'DRD5', 'MFSD2A', 'S100A16', 'NKX2-1', 'SCN5A', 'STAC2', 'TATDN3', 'GCSH', 'GPR37L1', 'SLC22A3', 'PHKB', 'RBM3', 'TTBK1', 'KCTD15', 'CROT', 'TSPAN12', 'MPZL2', 'BTBD17', 'FGFR3', 'PNP', 'TNFSF13', 'PRDX6', 'COL3A1', 'CNTNAP1', 'CHPT1', 'SCN9A', 'SLC38A6', 'GABRE', 'FNBP4', 'LYNX1', 'MTURN', 'OXCT1', 'PGM1', 'GFRA1', 'POU3F3', 'ANKRD40', 'TRANK1', 'RGS20', 'TTC27', 'GIGYF1', 'CACNA1I', 'ODF3B', 'CALN1', 'GSTA1', 'NADK2', 'TENM4', 'SMOX', 'SLC27A1', 'ATXN2L', 'HOMER2', 'SST', 'NKAIN4', 'MYO10', 'GPC5', 'TST', 'GNL2', 'CXCL14', 'MYH6', 'SLC5A7', 'OMD', 'ACACA', 'F3', 'RHOQ', 'LINGO2', 'NDUFA1', 'CABLES1', 'MMP15', 'ITPR1', 'TUBB2B', 'UHMK1', 'ADAMTS10', 'ADTRP', 'SLCO2A1', 'AKAP8', 'PPL', 'GUCY1A2', 'PREX2', 'HNRNPDL', 'CER1', 'SLC13A5', 'FAM107A', 'MT2A', 'NR4A1', 'TSC2', 'FAM167A', 'ELOVL2', 'RAB22A', 'PLAC9', 'KLHL14', 'ABCD2', 'TTPA', 'PANX2', 'LFNG', 'UPP1', 'AFP', 'ERF', 'COL11A1', 'AKAP8L', 'ISLR', 'EIF5A2', 'ECI2', 'TPPP3', 'COX7A2', 'RBMX', 'LENG8', 'APOA5', 'ZIC1', 'ADK', 'CARTPT', 'CCNL1', 'LARP6', 'MAP2', 'BTBD1', 'ATF3', 'VIM', 'RIMS2', 'IL33', 'CPT1A', 'SLC15A2', 'TMPRSS5', 'FNDC7', 'WNT7B', 'TTBK2', 'EBF3', 'APOC1', 'ATP13A4', 'FZD9', 'PYGM', 'RSPO1', 'TMEM56', 'NDUFB6', 'CHI3L1', 'TXNIP', 'TERF2IP', 'RETSAT', 'PSD2', 'SDC4', 'WNK4', 'ADAMTS19', 'RGCC', 'S100A13', 'BAG3', 'ABHD1', 'SFSWAP', 'RBM5', 'EGFL6', 'SLC3A2', 'FAM151A', 'ITGB4', 'GADD45G', 'MASP1', 'EMX2', 'MMD2', 'ATF5', 'LXN', 'MRC1', 'SLCO1C1', 'SLC1A2', 'APLN', 'SLC22A6', 'KIF5B', 'TRAFD1', 'AHCYL1', 'PON2', 'SLC1A4', 'SYTL5', 'GALNT1', 'LMCD1', 'FXYD7', 'ABHD3', 'CLDN9', 'RORB', 'KCNG4', 'FGFRL1', 'EPHX2', 'VCAM1', 'TGFBI', 'CIRBP', 'FAM163A', 'TIMP4', 'ZHX3', 'TPH1', 'GPT', 'PCGF6', 'TRIL', 'RNASE4', 'CYR61', 'GJB6', 'PLEKHD1', 'FAM193B', 'SCG3', 'NFXL1', 'ITSN1', 'GATSL2', 'ANGPTL4', 'COL1A1', 'KCNJ14', 'STRADA', 'JUNB', 'PLK5', 'EYA2', 'TMOD2', 'MAOB', 'SCRT1', 'ACTN1', 'SNRNP70', 'MYO5A', 'TMEM229A', 'COL1A2', 'CYBRD1', 'MRAS', 'CLDN10', 'GLUL', 'AEBP1', 'CBFA2T3', 'HIBADH', 'SERPINF1', 'ACOT11', 'PHYHD1', 'SBK1', 'DIO2', 'GJA1', 'SNPH', 'KCNJ10', 'LRRC8A', 'SLC9A3R1', 'F8', 'ACSL6', 'KLHL5', 'ACSBG1', 'CP', 'HTRA1', 'PLEKHN1', 'SLC27A3', 'PTPRG', 'FGF2', 'RMDN3', 'PPAN', 'IQSEC3', 'LRRC58', 'SIX3', 'LETM2', 'SPIRE1', 'RNF180', 'PNISR', 'CSAD', 'IDH2', 'LRRC36', 'CNTFR', 'ARHGEF19', 'SLFN13', 'S1PR1', 'CCDC153', 'PRSS53', 'MFHAS1'}\n",
      "\n",
      "Total L1000 and selected columns intersection genes: 48\n",
      "\n",
      "Up regulated genes: ['CNTFR', 'SLC9A3R1', 'TMEM229A', 'TRIL', 'TUBB2B', 'MASP1', 'TSPAN12', 'ABHD1', 'ABCD2', 'SLC15A2', 'PLEKHD1', 'IL33', 'SBK1', 'CXCL14', 'PANX2', 'IQSEC3', 'RETSAT', 'FZD9', 'ARHGEF19', 'KCNJ10', 'FAM163A', 'CACNA1I', 'ELOVL2', 'FGFR3', 'HTRA1', 'DIO2', 'HSD11B1', 'MT2A', 'PAQR8', 'GJB6', 'KLHL14']\n",
      "\n",
      "Down regulated genes: ['SCN5A', 'PKHD1L1', 'TPH1', 'GABRE', 'SCN9A', 'PLK5', 'TRANK1', 'PCGF6', 'RBM3', 'CEP95', 'LENG8', 'JUNB', 'CIRBP', 'SNRNP70', 'PNISR', 'TRAFD1', 'SRSF5']\n"
     ]
    }
   ],
   "source": [
    "# Load in up and down genes and expressions\n",
    "DATE = '08272023'\n",
    "NAME = 'MRGvsM'\n",
    "SELSET_FILE = './data/Rat_info_072023/MRGvsM_atp0.05_312.csv' # Replace with selected set file\n",
    "G_FILE = './data/sigcom-lincs-L1000toRNAseq/Level5_pred_RNA-Seq-like-L1000/LINCS_DCIC_2021_AntibodyPert_PredictedRNAseq_ChDir_Sigs.gctx'\n",
    "selset = pd.read_csv(SELSET_FILE, index_col=0)\n",
    "gfile = h5py.File(G_FILE, \"r\")\n",
    "P_FILTER = 0.01 # Filter for p-value on data\n",
    "\n",
    "# Directory with level 5 data\n",
    "L5_dir = '/home/jrollins/home/data/sigcom-lincs-L1000toRNAseq/Level5_pred_RNA-Seq-like-L1000/' # Change to location of level 5 sigcom data or substitute\n",
    "\n",
    "# Define output\n",
    "OUTPUT_DIRECTORY = './data/Rat_info_072023/MRGvsM_results_08272023/'\n",
    "if not os.path.exists(OUTPUT_DIRECTORY):\n",
    "    os.mkdir(OUTPUT_DIRECTORY)\n",
    "\n",
    "# Get just the gene list from the smallest file\n",
    "l1000_genes = [x.decode('utf-8') for x in list(gfile[\"0/META/ROW/id\"])]\n",
    "m_genes = [x.upper() for x in selset.index]\n",
    "\n",
    "# Print gene counts\n",
    "print('Genes in Comparison set', len(l1000_genes))\n",
    "print('Up and down regulated selected genes:', len(set(m_genes)))\n",
    "print(\"Up and down regulated selected x L1000 genes:\", len(set(m_genes).intersection(set(l1000_genes))))\n",
    "print('\\nIntersection of selected and L1000 gene names:',set(m_genes).intersection(set(l1000_genes)))\n",
    "\n",
    "# Insert genes as a column instead of index to apply uppercase function\n",
    "selset.insert(1, 'gene', selset.index)\n",
    "selset['gene'] = selset['gene'].apply(str.upper)\n",
    "\n",
    "# Take L1000 included genes\n",
    "l1000_selset = selset[selset['gene'].isin(list(l1000_genes))]\n",
    "l1000_selset = l1000_selset.reset_index()\n",
    "l1000_selset.head(2)\n",
    "\n",
    "# Filter by p-value\n",
    "l1000_selset = l1000_selset[l1000_selset['PValue'] < P_FILTER]\n",
    "\n",
    "# Separate the up and down regulated genes / indices for those genes\n",
    "l1000_up = list(l1000_selset['gene'][l1000_selset['Foldchange'] > 1])\n",
    "l1000_down = list(l1000_selset['gene'][l1000_selset['Foldchange'] < -1])\n",
    "print('\\nTotal L1000 and selected columns intersection genes:',len(l1000_up + l1000_down))\n",
    "print('\\nUp regulated genes:',l1000_up)\n",
    "print('\\nDown regulated genes:',l1000_down)\n",
    "\n",
    "rows_gene_ids = l1000_up + l1000_down"
   ]
  },
  {
   "cell_type": "markdown",
   "id": "b3f91d24",
   "metadata": {},
   "source": [
    "# Combine all the gctx files as dataframe"
   ]
  },
  {
   "cell_type": "code",
   "execution_count": 3,
   "id": "b105bef8",
   "metadata": {},
   "outputs": [
    {
     "name": "stdout",
     "output_type": "stream",
     "text": [
      "File already found: /home/jrollins/home/data/sigcom-lincs-L1000toRNAseq/Level5_pred_RNA-Seq-like-L1000/MRGvsM_sigcom_L1000_minusChem.pkl\n",
      "Begin filtering chemical perturbations\n",
      "File already exists: /home/jrollins/home/data/sigcom-lincs-L1000toRNAseq/Level5_pred_RNA-Seq-like-L1000/MRGvsM_expGene_L1000_chempert.pkl\n",
      "Saved to /home/jrollins/home/data/sigcom-lincs-L1000toRNAseq/Level5_pred_RNA-Seq-like-L1000/sigcom_MRGvsMxeL1000_geneExp.pkl\n"
     ]
    }
   ],
   "source": [
    "# Combine all of the gctx files as dataframe\n",
    "total_pt = []\n",
    "file_names_with_paths = [os.path.join(L5_dir, file) for file in os.listdir(L5_dir) if os.path.isfile(os.path.join(L5_dir, file))]\n",
    "\n",
    "if not os.path.exists(L5_dir + NAME + '_sigcom_L1000_minusChem.pkl'):\n",
    "    # Leaving out chem for now L5_dir + 'LINCS_DCIC_2021_ChemicalPert_PredictedRNAseq_ChDir_Sigs.gctx',\n",
    "    to_combine = [L5_dir + 'LINCS_DCIC_2021_CRISPRPert_PredictedRNAseq_ChDir_Sigs.gctx',\n",
    "     L5_dir + 'LINCS_DCIC_2021_LigandPert_PredictedRNAseq_ChDir_Sigs.gctx',\n",
    "     L5_dir + 'LINCS_DCIC_2021_shRNAPert_PredictedRNAseq_ChDir_Sigs.gctx',\n",
    "     L5_dir + 'LINCS_DCIC_2021_AntibodyPert_PredictedRNAseq_ChDir_Sigs.gctx',\n",
    "     L5_dir + 'LINCS_DCIC_2021_siRNAPert_PredictedRNAseq_ChDir_Sigs.gctx',\n",
    "     L5_dir + 'LINCS_DCIC_2021_OverexpressionPert_PredictedRNAseq_ChDir_Sigs.gctx']\n",
    "\n",
    "    for i in to_combine:\n",
    "        print(i)\n",
    "        curr_pt = gctx_to_df(i)\n",
    "\n",
    "        # Filter the dataframe so it can be combined in manageable size\n",
    "        cols_to_drop = curr_pt.columns.difference(rows_gene_ids)\n",
    "        curr_pt_fil = curr_pt.drop(columns=cols_to_drop)\n",
    "        total_pt.append(curr_pt_fil)\n",
    "        del curr_pt, curr_pt_fil\n",
    "        \n",
    "\n",
    "    total_df = pd.concat(total_pt)\n",
    "\n",
    "    # Save intermediate file without chemical perturbations included (to save space, this can be changed if large RAM is available)\n",
    "    total_df.to_pickle(L5_dir + NAME + '_sigcom_L1000_minusChem.pkl')\n",
    "else:\n",
    "    print('File already found: ' + L5_dir + NAME + '_sigcom_L1000_minusChem.pkl')\n",
    "\n",
    "\n",
    "# Get the metadata to make the process clear\n",
    "print('Begin filtering chemical perturbations')\n",
    "gfile = h5py.File(L5_dir + 'LINCS_DCIC_2021_ChemicalPert_PredictedRNAseq_ChDir_Sigs.gctx', \"r\")\n",
    "row_labels = np.array(gfile[\"0/META/ROW/id\"])\n",
    "col_labels = np.array(gfile[\"0/META/COL/id\"])\n",
    "gfile.close()\n",
    "row_labels = np.array([x.decode('utf-8') for x in row_labels])\n",
    "col_labels = np.array([x.decode('utf-8') for x in col_labels])\n",
    "rows_gene_ids_idx = np.where(np.isin(row_labels, rows_gene_ids))[0]\n",
    "\n",
    "\n",
    "\n",
    "if not os.path.exists(L5_dir + NAME + '_expGene_L1000_chempert.pkl'):\n",
    "    # Get the data filtered by genes\n",
    "    mag = 100000 # Size of chunk to use for L1000 chemical perturbations\n",
    "\n",
    "    for i in range(0, int(len(col_labels)/mag)+1):\n",
    "        if os.path.exists(L5_dir + NAME + '_expGene_L1000_pt' + str(i) + '.pkl'):\n",
    "            print('File already exists: ' + L5_dir + NAME + '_expGene_L1000_pt' + str(i) + '.pkl')\n",
    "        else:\n",
    "            print(i,'has begun')\n",
    "            gfile = h5py.File(L5_dir + 'LINCS_DCIC_2021_ChemicalPert_PredictedRNAseq_ChDir_Sigs.gctx', \"r\")\n",
    "            l1000 = gfile['0/DATA/0/matrix'][i*mag:(i+1)*mag, rows_gene_ids_idx]\n",
    "            gfile.close()\n",
    "            df = pd.DataFrame(l1000, columns=row_labels[rows_gene_ids_idx], index=col_labels[i*mag:(i+1)*mag])\n",
    "            print(L5_dir + NAME + '_expGene_L1000_pt' + str(i) + '_.pkl saved!')\n",
    "            df.to_pickle(L5_dir + NAME + '_expGene_L1000_pt' + str(i) + '.pkl')\n",
    "\n",
    "    total_pt = []\n",
    "    for i in range(0, int(len(col_labels)/mag)+1):\n",
    "        curr_pt = pd.read_pickle(L5_dir + NAME + '_expGene_L1000_pt' + str(i) + '.pkl')\n",
    "        total_pt.append(curr_pt)\n",
    "\n",
    "    total_df = pd.concat(total_pt)\n",
    "    total_df.to_pickle(L5_dir + NAME + '_expGene_L1000_chempert.pkl')\n",
    "else:\n",
    "    print('File already exists: ' + L5_dir + NAME + '_expGene_L1000_chempert.pkl')\n",
    "\n",
    "\n",
    "# Combine the chem and non-chem perturbation files with filtered columns for MRGvsM x eL1000\n",
    "chem = pd.read_pickle(L5_dir + NAME + '_expGene_L1000_chempert.pkl')\n",
    "non_chem = pd.read_pickle(L5_dir + NAME + '_sigcom_L1000_minusChem.pkl')\n",
    "t_df = pd.concat([chem, non_chem])\n",
    "print('Saved to ' + L5_dir + 'sigcom_' + NAME + 'xeL1000_geneExp.pkl')\n",
    "t_df.to_pickle(L5_dir + 'sigcom_' + NAME + 'xeL1000_geneExp.pkl')"
   ]
  },
  {
   "cell_type": "code",
   "execution_count": 4,
   "id": "5843c721",
   "metadata": {},
   "outputs": [],
   "source": [
    "# Combine all of the gctx files as dataframe\n",
    "# Get the correlations of the selset foldchange with eL1000 data\n",
    "sel_col = l1000_selset[['gene', 'Foldchange']]\n",
    "sel_col.index = sel_col['gene']\n",
    "sel_col = sel_col.drop(columns='gene')\n",
    "sel_col.to_csv(L5_dir + 'sel_col_' + NAME + 'xeL1000genes.csv') # Save out the selected column as csv for ease of viewing later\n",
    "\n",
    "sel_col = pd.read_csv(L5_dir + 'sel_col_' + NAME + 'xeL1000genes.csv')\n",
    "sel_col = sel_col[sel_col['gene'].isin(rows_gene_ids)].sort_values('gene').reset_index(drop=True)"
   ]
  },
  {
   "cell_type": "code",
   "execution_count": 5,
   "id": "285296fb",
   "metadata": {},
   "outputs": [],
   "source": [
    "# Make the rows genes for efficient comparison calculations\n",
    "l1000T = pd.read_pickle(L5_dir + 'sigcom_' + NAME + 'xeL1000_geneExp.pkl').T.reset_index()\n",
    "l1000T.index = l1000T['index']\n",
    "l1000T = l1000T.iloc[:,1:]\n",
    "l1000T = l1000T.sort_values('index')\n"
   ]
  },
  {
   "cell_type": "code",
   "execution_count": 6,
   "id": "866806e6",
   "metadata": {
    "scrolled": true
   },
   "outputs": [
    {
     "name": "stdout",
     "output_type": "stream",
     "text": [
      "0 has begun\n",
      "File already exists: ./data/Rat_info_072023/MRGvsM_results_08272023/MRGvsMxel1000_corr_plt01_pt0_08272023.pkl\n",
      "1 has begun\n",
      "File already exists: ./data/Rat_info_072023/MRGvsM_results_08272023/MRGvsMxel1000_corr_plt01_pt1_08272023.pkl\n",
      "2 has begun\n",
      "File already exists: ./data/Rat_info_072023/MRGvsM_results_08272023/MRGvsMxel1000_corr_plt01_pt2_08272023.pkl\n",
      "3 has begun\n",
      "File already exists: ./data/Rat_info_072023/MRGvsM_results_08272023/MRGvsMxel1000_corr_plt01_pt3_08272023.pkl\n",
      "4 has begun\n",
      "File already exists: ./data/Rat_info_072023/MRGvsM_results_08272023/MRGvsMxel1000_corr_plt01_pt4_08272023.pkl\n",
      "5 has begun\n",
      "File already exists: ./data/Rat_info_072023/MRGvsM_results_08272023/MRGvsMxel1000_corr_plt01_pt5_08272023.pkl\n",
      "6 has begun\n",
      "File already exists: ./data/Rat_info_072023/MRGvsM_results_08272023/MRGvsMxel1000_corr_plt01_pt6_08272023.pkl\n",
      "7 has begun\n",
      "File already exists: ./data/Rat_info_072023/MRGvsM_results_08272023/MRGvsMxel1000_corr_plt01_pt7_08272023.pkl\n",
      "8 has begun\n",
      "File already exists: ./data/Rat_info_072023/MRGvsM_results_08272023/MRGvsMxel1000_corr_plt01_pt8_08272023.pkl\n",
      "9 has begun\n",
      "File already exists: ./data/Rat_info_072023/MRGvsM_results_08272023/MRGvsMxel1000_corr_plt01_pt9_08272023.pkl\n",
      "10 has begun\n",
      "File already exists: ./data/Rat_info_072023/MRGvsM_results_08272023/MRGvsMxel1000_corr_plt01_pt10_08272023.pkl\n"
     ]
    }
   ],
   "source": [
    "# Get the data filtered by genes\n",
    "mag = 100000\n",
    "\n",
    "if os.path.exists(OUTPUT_DIRECTORY + NAME + 'xel1000_plt01_corr.pkl'):\n",
    "    print('File already exists: ' + OUTPUT_DIRECTORY + NAME + 'xel1000_plt01_corr.pkl')\n",
    "else:\n",
    "    for i in range(0,int(l1000T.shape[1]/mag)+1):\n",
    "        print(i,'has begun')\n",
    "        if not os.path.exists(OUTPUT_DIRECTORY + NAME + 'xel1000_corr_plt01_pt'+str(i)+'_' + DATE + '.pkl'):\n",
    "            expl1000_corr_selset = l1000T.iloc[:,i*mag:(i+1)*mag].corrwith(sel_col['Foldchange'], method='pearson')\n",
    "            expl1000_corr_selset_s = l1000T.iloc[:,i*mag:(i+1)*mag].corrwith(sel_col['Foldchange'], method='spearman')\n",
    "            # Combine correlations and rename columns\n",
    "            expl1000corrselset = pd.DataFrame([expl1000_corr_selset,expl1000_corr_selset_s]).T\n",
    "            expl1000corrselset = expl1000corrselset.sort_values(0, ascending=False).reset_index()\n",
    "            expl1000corrselset = expl1000corrselset.rename(columns={'index': 'sig_id', 0: 'pearson', 1: 'spearman'})\n",
    "            print('saved to ' + OUTPUT_DIRECTORY + NAME + 'xel1000_corr_plt01_pt'+str(i)+'_' + DATE + '.csv')\n",
    "            expl1000corrselset.to_pickle(OUTPUT_DIRECTORY + NAME + 'xel1000_corr_plt01_pt'+str(i)+'_' + DATE + '.pkl')\n",
    "        else:\n",
    "            print('File already exists: ' + OUTPUT_DIRECTORY + NAME + 'xel1000_corr_plt01_pt'+str(i)+'_' + DATE + '.pkl')\n",
    "\n",
    "\n",
    "    # Combine the data filtered by genes\n",
    "    total_pd = []\n",
    "    for i in range(0,int(l1000T.shape[1]/mag)+1):\n",
    "        curr_pd = pd.read_pickle(OUTPUT_DIRECTORY + NAME + 'xel1000_corr_plt01_pt' + str(i) + '_' + DATE + '.pkl')\n",
    "        total_pd.append(curr_pd)\n",
    "\n",
    "    total_df = pd.concat(total_pd)\n",
    "    total_df = total_df.drop_duplicates()\n",
    "    total_df = total_df.dropna()\n",
    "    total_df = total_df.sort_values('pearson').sort_values('pearson').reset_index(drop=True)\n",
    "    total_df.to_pickle(OUTPUT_DIRECTORY + NAME + 'xel1000_plt01_corr_' + DATE + '.pkl')"
   ]
  },
  {
   "cell_type": "code",
   "execution_count": 7,
   "id": "02bbe51b",
   "metadata": {},
   "outputs": [],
   "source": [
    "# Calculate the ES score\n",
    "# Make sure the right genes are aligned and filtered\n",
    "sel_col = sel_col.reset_index()\n",
    "sel_col = sel_col.sort_values('gene')\n",
    "sel_up = sel_col['gene'][sel_col['Foldchange'] > 1].values\n",
    "sel_down = sel_col['gene'][sel_col['Foldchange'] < -1].values\n",
    "\n",
    "\n",
    "# get the index numbers of the up and down genes\n",
    "qup = np.where(sel_col['gene'].isin(sel_up))[0]\n",
    "qdown = np.where(sel_col['gene'].isin(sel_down))[0]\n",
    "\n",
    "# make the rows ss.rankdata() and use qup and qdown\n",
    "ES_scores = [l1000T.index, l1000T.apply(lambda x: calc_ES(ss.rankdata(x),qup,qdown), axis=0)]\n",
    "ES_out = ES_scores[1].sort_values(ascending=False)\n",
    "ES_out.to_pickle(OUTPUT_DIRECTORY + 'ES_' + NAME + 'xeL1000_plt01_'+ DATE +'.pkl')\n",
    "\n",
    "df_ES = pd.DataFrame(ES_out, columns=['ES'])\n",
    "df_ES = df_ES.reset_index().rename(columns={'index':'sig_id'})"
   ]
  },
  {
   "cell_type": "code",
   "execution_count": 8,
   "id": "e01bf357",
   "metadata": {},
   "outputs": [
    {
     "name": "stdout",
     "output_type": "stream",
     "text": [
      "Final output of enrichment score and correlation: ./data/Rat_info_072023/MRGvsM_results_08272023/MRGvsMxeL1000_corrES_plt01_08272023.pkl\n"
     ]
    },
    {
     "data": {
      "image/png": "[encoded data removed]",
      "text/plain": [
       "<Figure size 432x288 with 1 Axes>"
      ]
     },
     "metadata": {
      "needs_background": "light"
     },
     "output_type": "display_data"
    },
    {
     "data": {
      "image/png": "[encoded data removed]",
      "text/plain": [
       "<Figure size 432x288 with 1 Axes>"
      ]
     },
     "metadata": {
      "needs_background": "light"
     },
     "output_type": "display_data"
    }
   ],
   "source": [
    "# Merge the ES scores and the correlations\n",
    "df_corr = pd.read_pickle(OUTPUT_DIRECTORY + NAME + 'xel1000_plt01_corr_' + DATE + '.pkl')\n",
    "df = pd.merge(df_corr, df_ES, on='sig_id', how='inner')\n",
    "df = df.drop_duplicates().dropna().sort_values('pearson')\n",
    "\n",
    "\n",
    "print('Final output of enrichment score and correlation: ' + OUTPUT_DIRECTORY + NAME + 'xeL1000_corrES_plt01_' + DATE + '.pkl')\n",
    "df.to_pickle(OUTPUT_DIRECTORY + NAME + 'xeL1000_corrES_plt01_' + DATE + '.pkl')\n",
    "\n",
    "ax = df.plot.scatter(x='ES', y='spearman', title='Spearman vs Enrichment Score')\n",
    "fig = ax.get_figure()\n",
    "fig.savefig(OUTPUT_DIRECTORY + NAME + 'spearmanvsES_plot.png')\n",
    "\n",
    "ax = df.plot.scatter(x='ES', y='pearson', title='Pearson vs Enrichment Score')\n",
    "fig = ax.get_figure()\n",
    "fig.savefig(OUTPUT_DIRECTORY + NAME + 'pearsonvsES_plot.png')"
   ]
  },
  {
   "cell_type": "code",
   "execution_count": null,
   "id": "d01f425b",
   "metadata": {},
   "outputs": [],
   "source": []
  },
  {
   "cell_type": "code",
   "execution_count": null,
   "id": "79c5938b",
   "metadata": {},
   "outputs": [],
   "source": []
  },
  {
   "cell_type": "code",
   "execution_count": null,
   "id": "9201c6dd",
   "metadata": {},
   "outputs": [],
   "source": []
  },
  {
   "cell_type": "code",
   "execution_count": null,
   "id": "dd2dc1ea",
   "metadata": {},
   "outputs": [],
   "source": []
  },
  {
   "cell_type": "code",
   "execution_count": null,
   "id": "c7903dc7",
   "metadata": {},
   "outputs": [],
   "source": []
  },
  {
   "cell_type": "code",
   "execution_count": null,
   "id": "d53b9b1f",
   "metadata": {},
   "outputs": [],
   "source": []
  },
  {
   "cell_type": "code",
   "execution_count": null,
   "id": "b9f875a3",
   "metadata": {},
   "outputs": [],
   "source": []
  },
  {
   "cell_type": "code",
   "execution_count": null,
   "id": "22d2b99c",
   "metadata": {},
   "outputs": [],
   "source": []
  },
  {
   "cell_type": "code",
   "execution_count": null,
   "id": "145246bb",
   "metadata": {},
   "outputs": [],
   "source": []
  },
  {
   "cell_type": "code",
   "execution_count": null,
   "id": "507e40d7",
   "metadata": {},
   "outputs": [],
   "source": []
  },
  {
   "cell_type": "code",
   "execution_count": null,
   "id": "ab77a427",
   "metadata": {},
   "outputs": [],
   "source": []
  }
 ],
 "metadata": {
  "kernelspec": {
   "display_name": "Python 3 (ipykernel)",
   "language": "python",
   "name": "python3"
  },
  "language_info": {
   "codemirror_mode": {
    "name": "ipython",
    "version": 3
   },
   "file_extension": ".py",
   "mimetype": "text/x-python",
   "name": "python",
   "nbconvert_exporter": "python",
   "pygments_lexer": "ipython3",
   "version": "3.9.12"
  }
 },
 "nbformat": 4,
 "nbformat_minor": 5
}
