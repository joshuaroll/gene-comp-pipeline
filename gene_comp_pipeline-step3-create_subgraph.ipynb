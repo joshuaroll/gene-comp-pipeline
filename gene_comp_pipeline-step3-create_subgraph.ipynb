{
 "cells": [
  {
   "cell_type": "code",
   "execution_count": 2,
   "id": "ddebe74c",
   "metadata": {},
   "outputs": [],
   "source": [
    "import matplotlib.pyplot as plt\n",
    "import pandas as pd\n",
    "import numpy as np\n",
    "import scipy\n",
    "\n",
    "from scipy.sparse import csr_matrix\n",
    "from scipy.sparse.csgraph import dijkstra"
   ]
  },
  {
   "cell_type": "code",
   "execution_count": 3,
   "id": "30cc5d71",
   "metadata": {},
   "outputs": [],
   "source": [
    "STEP2_RESULTS = './data/Rat_info_072023/MRGvsM_results_08272023/MRGvsMxeL1000_corrES_wtargets_sortedbyPearson-duplicatesdropped_plt01_08272023.csv'"
   ]
  },
  {
   "cell_type": "code",
   "execution_count": 6,
   "id": "f5143d1f",
   "metadata": {},
   "outputs": [],
   "source": [
    "z = pd.read_csv(STEP2_RESULTS, index_col=0)"
   ]
  },
  {
   "cell_type": "code",
   "execution_count": 8,
   "id": "e041791e",
   "metadata": {},
   "outputs": [
    {
     "data": {
      "text/html": [
       "<div>\n",
       "<style scoped>\n",
       "    .dataframe tbody tr th:only-of-type {\n",
       "        vertical-align: middle;\n",
       "    }\n",
       "\n",
       "    .dataframe tbody tr th {\n",
       "        vertical-align: top;\n",
       "    }\n",
       "\n",
       "    .dataframe thead th {\n",
       "        text-align: right;\n",
       "    }\n",
       "</style>\n",
       "<table border=\"1\" class=\"dataframe\">\n",
       "  <thead>\n",
       "    <tr style=\"text-align: right;\">\n",
       "      <th></th>\n",
       "      <th>sig_id</th>\n",
       "      <th>pert_type</th>\n",
       "      <th>pearson</th>\n",
       "      <th>spearman</th>\n",
       "      <th>ES</th>\n",
       "      <th>pert_name</th>\n",
       "      <th>target</th>\n",
       "    </tr>\n",
       "  </thead>\n",
       "  <tbody>\n",
       "    <tr>\n",
       "      <th>0</th>\n",
       "      <td>CPC001_VCAP_24H_N13_SB-205607_10uM</td>\n",
       "      <td>ChemicalPert</td>\n",
       "      <td>0.631691</td>\n",
       "      <td>0.525836</td>\n",
       "      <td>0.347249</td>\n",
       "      <td>SB-205607</td>\n",
       "      <td>OPRD1</td>\n",
       "    </tr>\n",
       "    <tr>\n",
       "      <th>1</th>\n",
       "      <td>LKCP002_U2OS_48H_H04_cilengitide_10uM</td>\n",
       "      <td>ChemicalPert</td>\n",
       "      <td>0.599193</td>\n",
       "      <td>0.521385</td>\n",
       "      <td>0.285579</td>\n",
       "      <td>cilengitide</td>\n",
       "      <td>ITGAV, ITGB3</td>\n",
       "    </tr>\n",
       "    <tr>\n",
       "      <th>2</th>\n",
       "      <td>LJP007_MCF10A_24H_A11_XMD-885_0.12uM</td>\n",
       "      <td>ChemicalPert</td>\n",
       "      <td>0.597751</td>\n",
       "      <td>0.476661</td>\n",
       "      <td>0.363378</td>\n",
       "      <td>XMD-885</td>\n",
       "      <td>MAPK7, LRRK2</td>\n",
       "    </tr>\n",
       "    <tr>\n",
       "      <th>3</th>\n",
       "      <td>ASG003_U2OS_6H_M24_YM-155_0.12uM</td>\n",
       "      <td>ChemicalPert</td>\n",
       "      <td>0.597642</td>\n",
       "      <td>0.533652</td>\n",
       "      <td>0.288425</td>\n",
       "      <td>YM-155</td>\n",
       "      <td>BIRC5</td>\n",
       "    </tr>\n",
       "    <tr>\n",
       "      <th>4</th>\n",
       "      <td>CPC006_PL21_6H_A06_temozolomide_10uM</td>\n",
       "      <td>ChemicalPert</td>\n",
       "      <td>0.582085</td>\n",
       "      <td>0.543747</td>\n",
       "      <td>0.328273</td>\n",
       "      <td>temozolomide</td>\n",
       "      <td>MGMT</td>\n",
       "    </tr>\n",
       "  </tbody>\n",
       "</table>\n",
       "</div>"
      ],
      "text/plain": [
       "                                  sig_id     pert_type   pearson  spearman  \\\n",
       "0     CPC001_VCAP_24H_N13_SB-205607_10uM  ChemicalPert  0.631691  0.525836   \n",
       "1  LKCP002_U2OS_48H_H04_cilengitide_10uM  ChemicalPert  0.599193  0.521385   \n",
       "2   LJP007_MCF10A_24H_A11_XMD-885_0.12uM  ChemicalPert  0.597751  0.476661   \n",
       "3       ASG003_U2OS_6H_M24_YM-155_0.12uM  ChemicalPert  0.597642  0.533652   \n",
       "4   CPC006_PL21_6H_A06_temozolomide_10uM  ChemicalPert  0.582085  0.543747   \n",
       "\n",
       "         ES     pert_name        target  \n",
       "0  0.347249     SB-205607         OPRD1  \n",
       "1  0.285579   cilengitide  ITGAV, ITGB3  \n",
       "2  0.363378       XMD-885  MAPK7, LRRK2  \n",
       "3  0.288425        YM-155         BIRC5  \n",
       "4  0.328273  temozolomide          MGMT  "
      ]
     },
     "execution_count": 8,
     "metadata": {},
     "output_type": "execute_result"
    }
   ],
   "source": [
    "z.head(5)"
   ]
  },
  {
   "cell_type": "code",
   "execution_count": 9,
   "id": "7fb90229",
   "metadata": {},
   "outputs": [],
   "source": [
    "COMP_FILE = './rat_col_MRGvMupdowngenes_07182023.csv'\n",
    "target_gene = 'OPRD1' # Selected from top pearson correlation score of previous file and reasoning based on biological evidence \n",
    "NETWORK_FILE = '../brain_USP7/brain.txt'\n",
    "NAME = 'MRGvsM'\n",
    "DATE = '08272023'"
   ]
  },
  {
   "cell_type": "code",
   "execution_count": 10,
   "id": "ded8f62c",
   "metadata": {},
   "outputs": [],
   "source": [
    "# Load in comp set\n",
    "comp_set = pd.read_csv(COMP_FILE) # Insert sel_col file from step 1\n",
    "comp_set = comp_set.rename(columns={'Unnamed: 0': 'Gene'})\n",
    "comp_genes = set(comp_set['Gene'].unique())\n",
    "\n",
    "# Load in brain network data\n",
    "network = pd.read_csv(NETWORK_FILE, sep='\\t', header=None)\n",
    "network.columns = ['S', 'E', 'weight']\n",
    "\n",
    "# Convert weight to distance\n",
    "#10.0x(1.0-weight)\n",
    "network['distance'] = 10*(1-network['weight'])\n",
    "\n",
    "\n",
    "# Create graph matrix\n",
    "# Get unique nodes\n",
    "nodes = np.unique(network[['S', 'E']].values)\n",
    "\n",
    "# Create a dictionary to map node names to indices\n",
    "node_to_index = {node: i for i, node in enumerate(nodes)}\n",
    "\n",
    "# Initialize an empty adjacency matrix\n",
    "adj_matrix = np.zeros((len(nodes), len(nodes)))"
   ]
  },
  {
   "cell_type": "code",
   "execution_count": 11,
   "id": "86c2d10f",
   "metadata": {},
   "outputs": [
    {
     "name": "stdout",
     "output_type": "stream",
     "text": [
      "(17180, 17180)\n"
     ]
    }
   ],
   "source": [
    "# Populate the adjacency matrix with edge weights\n",
    "mag = 1000000\n",
    "for i in range(0,int(len(network) / mag)+1):\n",
    "    for _, row in network.iloc[i*mag:(i+1)*mag,].iterrows():\n",
    "        start_index = node_to_index[row['S']]\n",
    "        end_index = node_to_index[row['E']]\n",
    "        adj_matrix[start_index, end_index] = row['distance']\n",
    "        \n",
    "# Convert the adjacency matrix to a sparse matrix\n",
    "sparse_graph = csr_matrix(adj_matrix)\n",
    "print(sparse_graph.shape) "
   ]
  },
  {
   "cell_type": "code",
   "execution_count": 12,
   "id": "36841c3e",
   "metadata": {},
   "outputs": [
    {
     "name": "stdout",
     "output_type": "stream",
     "text": [
      "OPRD1 node: 9871\n"
     ]
    }
   ],
   "source": [
    "# Run Djikstras starting at target gene\n",
    "print(target_gene, 'node:', node_to_index[target_gene])\n",
    "\n",
    "dist_matrix, predecessors = dijkstra(csgraph=sparse_graph, directed=False, indices=node_to_index[target_gene], return_predecessors=True)\n",
    "\n",
    "# Convert graph to dataframe and format\n",
    "ddf = pd.DataFrame(dist_matrix)\n",
    "ddf.index = list(node_to_index.keys())"
   ]
  },
  {
   "cell_type": "markdown",
   "id": "f1d9ce81",
   "metadata": {},
   "source": [
    "# Check f_gene and graph node overlap then get scores"
   ]
  },
  {
   "cell_type": "code",
   "execution_count": 13,
   "id": "141d0056",
   "metadata": {},
   "outputs": [
    {
     "name": "stdout",
     "output_type": "stream",
     "text": [
      "20\n",
      "{'AKAP8L', 'HOMER2', 'HTRA1', 'ANKRD10', 'OXCT1', 'PNP', 'AURKB', 'BAG3', 'PGM1', 'ATF5', 'COL1A1', 'CIRBP', 'SLC1A4', 'ALDOC', 'TERF2IP', 'AKAP8', 'SLC27A3', 'PHKB', 'MYO10', 'S100A13'}\n"
     ]
    }
   ],
   "source": [
    "comp_genes_g = set(comp_genes).intersection(set(ddf.index))\n",
    "print(len(comp_genes_g))\n",
    "print(comp_genes_g)"
   ]
  },
  {
   "cell_type": "markdown",
   "id": "726b447f",
   "metadata": {},
   "source": [
    "# Find the subnetwork of nodes from comp set"
   ]
  },
  {
   "cell_type": "code",
   "execution_count": 14,
   "id": "31792aef",
   "metadata": {},
   "outputs": [],
   "source": [
    "comp_idxs = [node_to_index[x] for x in comp_genes_g]\n",
    "target_nodes = comp_idxs\n",
    "source_node = node_to_index[target_gene]\n",
    "\n",
    "subnetwork_nodes = set([source_node] + target_nodes)  # Include source and target nodes\n",
    "for node in target_nodes:\n",
    "    # Backtrack from the target node to the source node and include all intermediate nodes\n",
    "    current_node = node\n",
    "    while current_node != source_node:\n",
    "        subnetwork_nodes.add(current_node)\n",
    "        current_node = predecessors[current_node]"
   ]
  },
  {
   "cell_type": "code",
   "execution_count": 15,
   "id": "e2d16962",
   "metadata": {},
   "outputs": [
    {
     "name": "stdout",
     "output_type": "stream",
     "text": [
      "Number of subnetwork nodes: 52 \n",
      "\n",
      "['PGM1', 'CD44', 'OPRD1', 'SERPINE1', 'OPRM1', 'CDKN1A', 'MAPK14', 'CCNA2', 'BAG3', 'CCND1', 'RB1', 'SLC27A3', 'PHKB', 'AK4', 'PCNA', 'PARP1', 'OXCT1', 'AKAP12', 'SRC', 'GEM', 'EGFR', 'S100A13', 'MYO10', 'ATF2', 'HOMER2', 'AKAP8L', 'ATF5', 'COL1A1', 'CIRBP', 'SLC1A4', 'TERF2IP', 'AKAP8', 'WSB1', 'S100A6', 'ERBB3', 'S100A11', 'COL4A2', 'ADRB2', 'AURKB', 'FN1', 'VEGFA', 'TPM1', 'SFPQ', 'SRSF2', 'FOS', 'ANKRD10', 'PLAU', 'HTRA1', 'ALDOC', 'PDGFA', 'PDGFRA', 'PNP']\n"
     ]
    }
   ],
   "source": [
    "# Now you have a set of nodes that make up the subnetwork of shortest paths from the source node to the target nodes.\n",
    "# You can use this set to extract the subgraph from your original graph representation.\n",
    "subgraph_nodes = [nodes[node_index] for node_index in subnetwork_nodes]\n",
    "print('Number of subnetwork nodes:', len(subnetwork_nodes),'\\n')\n",
    "print(subgraph_nodes)"
   ]
  },
  {
   "cell_type": "markdown",
   "id": "9bc75e83",
   "metadata": {},
   "source": [
    "# FIND FILTERING METHOD FOR SHORTEST PATHS INSTEAD OF JUST FILTERING SUBGRAPH ON SOURCE AND END"
   ]
  },
  {
   "cell_type": "code",
   "execution_count": 16,
   "id": "d96e5340",
   "metadata": {},
   "outputs": [],
   "source": [
    "network_filt = network[network['S'].isin(subgraph_nodes)]"
   ]
  },
  {
   "cell_type": "code",
   "execution_count": 17,
   "id": "0e2b0a1b",
   "metadata": {},
   "outputs": [],
   "source": [
    "network_filt = network_filt[network_filt['E'].isin(subgraph_nodes)]"
   ]
  },
  {
   "cell_type": "code",
   "execution_count": 18,
   "id": "24faeef4",
   "metadata": {
    "scrolled": true
   },
   "outputs": [
    {
     "data": {
      "text/html": [
       "<div>\n",
       "<style scoped>\n",
       "    .dataframe tbody tr th:only-of-type {\n",
       "        vertical-align: middle;\n",
       "    }\n",
       "\n",
       "    .dataframe tbody tr th {\n",
       "        vertical-align: top;\n",
       "    }\n",
       "\n",
       "    .dataframe thead th {\n",
       "        text-align: right;\n",
       "    }\n",
       "</style>\n",
       "<table border=\"1\" class=\"dataframe\">\n",
       "  <thead>\n",
       "    <tr style=\"text-align: right;\">\n",
       "      <th></th>\n",
       "      <th>S</th>\n",
       "      <th>E</th>\n",
       "      <th>weight</th>\n",
       "      <th>distance</th>\n",
       "    </tr>\n",
       "  </thead>\n",
       "  <tbody>\n",
       "    <tr>\n",
       "      <th>309247</th>\n",
       "      <td>PCNA</td>\n",
       "      <td>CCNA2</td>\n",
       "      <td>0.9804</td>\n",
       "      <td>0.196</td>\n",
       "    </tr>\n",
       "    <tr>\n",
       "      <th>1878356</th>\n",
       "      <td>CCND1</td>\n",
       "      <td>CDKN1A</td>\n",
       "      <td>0.9780</td>\n",
       "      <td>0.220</td>\n",
       "    </tr>\n",
       "    <tr>\n",
       "      <th>1931805</th>\n",
       "      <td>ATF2</td>\n",
       "      <td>FOS</td>\n",
       "      <td>0.9744</td>\n",
       "      <td>0.256</td>\n",
       "    </tr>\n",
       "    <tr>\n",
       "      <th>3644509</th>\n",
       "      <td>MAPK14</td>\n",
       "      <td>ATF2</td>\n",
       "      <td>0.9724</td>\n",
       "      <td>0.276</td>\n",
       "    </tr>\n",
       "    <tr>\n",
       "      <th>2246071</th>\n",
       "      <td>PDGFRA</td>\n",
       "      <td>PDGFA</td>\n",
       "      <td>0.9679</td>\n",
       "      <td>0.321</td>\n",
       "    </tr>\n",
       "    <tr>\n",
       "      <th>...</th>\n",
       "      <td>...</td>\n",
       "      <td>...</td>\n",
       "      <td>...</td>\n",
       "      <td>...</td>\n",
       "    </tr>\n",
       "    <tr>\n",
       "      <th>1661250</th>\n",
       "      <td>AKAP12</td>\n",
       "      <td>BAG3</td>\n",
       "      <td>0.5083</td>\n",
       "      <td>4.917</td>\n",
       "    </tr>\n",
       "    <tr>\n",
       "      <th>1961841</th>\n",
       "      <td>SFPQ</td>\n",
       "      <td>PCNA</td>\n",
       "      <td>0.5058</td>\n",
       "      <td>4.942</td>\n",
       "    </tr>\n",
       "    <tr>\n",
       "      <th>1088284</th>\n",
       "      <td>ANKRD10</td>\n",
       "      <td>OPRD1</td>\n",
       "      <td>0.5035</td>\n",
       "      <td>4.965</td>\n",
       "    </tr>\n",
       "    <tr>\n",
       "      <th>3657790</th>\n",
       "      <td>SERPINE1</td>\n",
       "      <td>COL4A2</td>\n",
       "      <td>0.5017</td>\n",
       "      <td>4.983</td>\n",
       "    </tr>\n",
       "    <tr>\n",
       "      <th>5043813</th>\n",
       "      <td>ALDOC</td>\n",
       "      <td>MYO10</td>\n",
       "      <td>0.5016</td>\n",
       "      <td>4.984</td>\n",
       "    </tr>\n",
       "  </tbody>\n",
       "</table>\n",
       "<p>293 rows × 4 columns</p>\n",
       "</div>"
      ],
      "text/plain": [
       "                S       E  weight  distance\n",
       "309247       PCNA   CCNA2  0.9804     0.196\n",
       "1878356     CCND1  CDKN1A  0.9780     0.220\n",
       "1931805      ATF2     FOS  0.9744     0.256\n",
       "3644509    MAPK14    ATF2  0.9724     0.276\n",
       "2246071    PDGFRA   PDGFA  0.9679     0.321\n",
       "...           ...     ...     ...       ...\n",
       "1661250    AKAP12    BAG3  0.5083     4.917\n",
       "1961841      SFPQ    PCNA  0.5058     4.942\n",
       "1088284   ANKRD10   OPRD1  0.5035     4.965\n",
       "3657790  SERPINE1  COL4A2  0.5017     4.983\n",
       "5043813     ALDOC   MYO10  0.5016     4.984\n",
       "\n",
       "[293 rows x 4 columns]"
      ]
     },
     "execution_count": 18,
     "metadata": {},
     "output_type": "execute_result"
    }
   ],
   "source": [
    "network_filt.sort_values('distance')"
   ]
  },
  {
   "cell_type": "code",
   "execution_count": 19,
   "id": "896435bf",
   "metadata": {
    "scrolled": true
   },
   "outputs": [
    {
     "data": {
      "text/html": [
       "<div>\n",
       "<style scoped>\n",
       "    .dataframe tbody tr th:only-of-type {\n",
       "        vertical-align: middle;\n",
       "    }\n",
       "\n",
       "    .dataframe tbody tr th {\n",
       "        vertical-align: top;\n",
       "    }\n",
       "\n",
       "    .dataframe thead th {\n",
       "        text-align: right;\n",
       "    }\n",
       "</style>\n",
       "<table border=\"1\" class=\"dataframe\">\n",
       "  <thead>\n",
       "    <tr style=\"text-align: right;\">\n",
       "      <th></th>\n",
       "      <th>weight</th>\n",
       "      <th>distance</th>\n",
       "    </tr>\n",
       "  </thead>\n",
       "  <tbody>\n",
       "    <tr>\n",
       "      <th>count</th>\n",
       "      <td>293.000000</td>\n",
       "      <td>293.000000</td>\n",
       "    </tr>\n",
       "    <tr>\n",
       "      <th>mean</th>\n",
       "      <td>0.785804</td>\n",
       "      <td>2.141959</td>\n",
       "    </tr>\n",
       "    <tr>\n",
       "      <th>std</th>\n",
       "      <td>0.132155</td>\n",
       "      <td>1.321549</td>\n",
       "    </tr>\n",
       "    <tr>\n",
       "      <th>min</th>\n",
       "      <td>0.501600</td>\n",
       "      <td>0.196000</td>\n",
       "    </tr>\n",
       "    <tr>\n",
       "      <th>25%</th>\n",
       "      <td>0.661500</td>\n",
       "      <td>1.077000</td>\n",
       "    </tr>\n",
       "    <tr>\n",
       "      <th>50%</th>\n",
       "      <td>0.820000</td>\n",
       "      <td>1.800000</td>\n",
       "    </tr>\n",
       "    <tr>\n",
       "      <th>75%</th>\n",
       "      <td>0.892300</td>\n",
       "      <td>3.385000</td>\n",
       "    </tr>\n",
       "    <tr>\n",
       "      <th>max</th>\n",
       "      <td>0.980400</td>\n",
       "      <td>4.984000</td>\n",
       "    </tr>\n",
       "  </tbody>\n",
       "</table>\n",
       "</div>"
      ],
      "text/plain": [
       "           weight    distance\n",
       "count  293.000000  293.000000\n",
       "mean     0.785804    2.141959\n",
       "std      0.132155    1.321549\n",
       "min      0.501600    0.196000\n",
       "25%      0.661500    1.077000\n",
       "50%      0.820000    1.800000\n",
       "75%      0.892300    3.385000\n",
       "max      0.980400    4.984000"
      ]
     },
     "execution_count": 19,
     "metadata": {},
     "output_type": "execute_result"
    }
   ],
   "source": [
    "network_filt.describe()"
   ]
  },
  {
   "cell_type": "code",
   "execution_count": 20,
   "id": "2327adb0",
   "metadata": {},
   "outputs": [
    {
     "name": "stdout",
     "output_type": "stream",
     "text": [
      "Graph file saved at: OPRD1_MRGvsM_genes_subgraph_edges_08272023.csv\n"
     ]
    }
   ],
   "source": [
    "print('Graph file saved at: ' + target_gene + '_' + NAME + '_genes_subgraph_edges_' + DATE + '.csv')\n",
    "network_filt.to_csv(target_gene + '_' + NAME + '_genes_subgraph_edges_' + DATE + '.csv')"
   ]
  },
  {
   "cell_type": "code",
   "execution_count": null,
   "id": "7ae8cc8f",
   "metadata": {},
   "outputs": [],
   "source": []
  },
  {
   "cell_type": "code",
   "execution_count": null,
   "id": "7bb338f2",
   "metadata": {},
   "outputs": [],
   "source": []
  },
  {
   "cell_type": "code",
   "execution_count": null,
   "id": "a775e673",
   "metadata": {},
   "outputs": [],
   "source": []
  },
  {
   "cell_type": "code",
   "execution_count": null,
   "id": "66987809",
   "metadata": {},
   "outputs": [],
   "source": []
  },
  {
   "cell_type": "code",
   "execution_count": null,
   "id": "5873c8bc",
   "metadata": {},
   "outputs": [],
   "source": []
  },
  {
   "cell_type": "code",
   "execution_count": null,
   "id": "a8f4886c",
   "metadata": {},
   "outputs": [],
   "source": []
  },
  {
   "cell_type": "code",
   "execution_count": null,
   "id": "984195a4",
   "metadata": {},
   "outputs": [],
   "source": []
  }
 ],
 "metadata": {
  "kernelspec": {
   "display_name": "Python 3 (ipykernel)",
   "language": "python",
   "name": "python3"
  },
  "language_info": {
   "codemirror_mode": {
    "name": "ipython",
    "version": 3
   },
   "file_extension": ".py",
   "mimetype": "text/x-python",
   "name": "python",
   "nbconvert_exporter": "python",
   "pygments_lexer": "ipython3",
   "version": "3.9.12"
  }
 },
 "nbformat": 4,
 "nbformat_minor": 5
}
